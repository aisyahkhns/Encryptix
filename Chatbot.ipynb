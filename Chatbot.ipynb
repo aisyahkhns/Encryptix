{
  "nbformat": 4,
  "nbformat_minor": 0,
  "metadata": {
    "colab": {
      "provenance": [],
      "authorship_tag": "ABX9TyOV9Y2TthfbqCyM9pRLG3BP",
      "include_colab_link": true
    },
    "kernelspec": {
      "name": "python3",
      "display_name": "Python 3"
    },
    "language_info": {
      "name": "python"
    }
  },
  "cells": [
    {
      "cell_type": "markdown",
      "metadata": {
        "id": "view-in-github",
        "colab_type": "text"
      },
      "source": [
        "<a href=\"https://colab.research.google.com/github/aisyahkhns/Encryptix/blob/main/Chatbot.ipynb\" target=\"_parent\"><img src=\"https://colab.research.google.com/assets/colab-badge.svg\" alt=\"Open In Colab\"/></a>"
      ]
    },
    {
      "cell_type": "code",
      "execution_count": null,
      "metadata": {
        "colab": {
          "base_uri": "https://localhost:8080/"
        },
        "id": "6JCWrswbULzS",
        "outputId": "0bb8fa5e-3e69-477a-b02d-7d6079c7d166"
      },
      "outputs": [
        {
          "output_type": "stream",
          "name": "stdout",
          "text": [
            "Chatbot: Hi! I'm your assistant. Type 'bye' to exit.\n",
            "You: bye\n",
            "Chatbot: Goodbye! Take care!\n"
          ]
        }
      ],
      "source": [
        "# Simple Rule-Based Chatbot\n",
        "\n",
        "def chatbot_response(user_input):\n",
        "    # Convert user input to lowercase for uniformity\n",
        "    user_input = user_input.lower()\n",
        "\n",
        "    # Predefined rules for responses\n",
        "    if \"hello\" in user_input or \"hi\" in user_input:\n",
        "        return \"Hello! How can I assist you today?\"\n",
        "    elif \"how are you\" in user_input:\n",
        "        return \"I'm just a program, but I'm doing great! How about you?\"\n",
        "    elif \"your name\" in user_input:\n",
        "        return \"I'm your virtual assistant. What's your name?\"\n",
        "    elif \"help\" in user_input:\n",
        "        return \"Sure, I'm here to help! Can you please elaborate on your query?\"\n",
        "    elif \"bye\" in user_input or \"goodbye\" in user_input:\n",
        "        return \"Goodbye! Have a great day!\"\n",
        "    else:\n",
        "        return \"I'm not sure how to respond to that. Could you rephrase or ask something else?\"\n",
        "\n",
        "# Main program loop\n",
        "print(\"Chatbot: Hello! I'm your assistant. Type 'bye' to quit.\")\n",
        "\n",
        "while True:\n",
        "    user_input = input(\"You: \")\n",
        "    if \"bye\" in user_input.lower():\n",
        "        print(\"Chatbot: Goodbye! Take care!\")\n",
        "        break\n",
        "    response = chatbot_response(user_input)\n",
        "    print(f\"Chatbot: {response}\")"
      ]
    }
  ]
}